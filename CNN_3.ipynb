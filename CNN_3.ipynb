{
 "cells": [
  {
   "cell_type": "markdown",
   "metadata": {
    "colab_type": "text",
    "id": "joMbvAYnkaFp"
   },
   "source": [
    "# 学習済みのCNNを使用する"
   ]
  },
  {
   "cell_type": "markdown",
   "metadata": {
    "colab_type": "text",
    "id": "VYTAW4ttztcu"
   },
   "source": [
    "ドライブをマウント"
   ]
  },
  {
   "cell_type": "code",
   "execution_count": 2,
   "metadata": {
    "colab": {
     "base_uri": "https://localhost:8080/",
     "height": 34
    },
    "colab_type": "code",
    "executionInfo": {
     "elapsed": 6887,
     "status": "ok",
     "timestamp": 1538643282498,
     "user": {
      "displayName": "カピカピ",
      "photoUrl": "",
      "userId": "07721522032221112506"
     },
     "user_tz": -540
    },
    "id": "sN90QVIBztMR",
    "outputId": "cb374c65-d367-4732-fe51-84de38a74ef9"
   },
   "outputs": [
    {
     "name": "stdout",
     "output_type": "stream",
     "text": [
      "Mounted at /content/drive\n"
     ]
    }
   ],
   "source": [
    "from google.colab import drive\n",
    "drive.mount('/content/drive')"
   ]
  },
  {
   "cell_type": "markdown",
   "metadata": {
    "colab_type": "text",
    "id": "L6S9wRoukjqT"
   },
   "source": [
    "VGG16モデルの畳み込みベースのインスタンス化"
   ]
  },
  {
   "cell_type": "code",
   "execution_count": 3,
   "metadata": {
    "colab": {
     "base_uri": "https://localhost:8080/",
     "height": 88
    },
    "colab_type": "code",
    "executionInfo": {
     "elapsed": 12810,
     "status": "ok",
     "timestamp": 1538643295346,
     "user": {
      "displayName": "カピカピ",
      "photoUrl": "",
      "userId": "07721522032221112506"
     },
     "user_tz": -540
    },
    "id": "lRPOgYDfV7hy",
    "outputId": "7b7c8b0a-9f98-49f7-868f-c81b8fe41d9a"
   },
   "outputs": [
    {
     "name": "stderr",
     "output_type": "stream",
     "text": [
      "Using TensorFlow backend.\n"
     ]
    },
    {
     "name": "stdout",
     "output_type": "stream",
     "text": [
      "Downloading data from https://github.com/fchollet/deep-learning-models/releases/download/v0.1/vgg16_weights_tf_dim_ordering_tf_kernels_notop.h5\n",
      "58892288/58889256 [==============================] - 7s 0us/step\n"
     ]
    }
   ],
   "source": [
    "from keras.applications import VGG16\n",
    "\n",
    "conv_base = VGG16(weights='imagenet',\n",
    "                 include_top=False,\n",
    "                 input_shape=(150, 150, 3))"
   ]
  },
  {
   "cell_type": "code",
   "execution_count": 4,
   "metadata": {
    "colab": {
     "base_uri": "https://localhost:8080/",
     "height": 782
    },
    "colab_type": "code",
    "executionInfo": {
     "elapsed": 962,
     "status": "ok",
     "timestamp": 1538643296328,
     "user": {
      "displayName": "カピカピ",
      "photoUrl": "",
      "userId": "07721522032221112506"
     },
     "user_tz": -540
    },
    "id": "luRyxvtxlRop",
    "outputId": "aa3f381b-c9bf-4a8d-8c73-602c1d9ce2e4"
   },
   "outputs": [
    {
     "name": "stdout",
     "output_type": "stream",
     "text": [
      "_________________________________________________________________\n",
      "Layer (type)                 Output Shape              Param #   \n",
      "=================================================================\n",
      "input_1 (InputLayer)         (None, 150, 150, 3)       0         \n",
      "_________________________________________________________________\n",
      "block1_conv1 (Conv2D)        (None, 150, 150, 64)      1792      \n",
      "_________________________________________________________________\n",
      "block1_conv2 (Conv2D)        (None, 150, 150, 64)      36928     \n",
      "_________________________________________________________________\n",
      "block1_pool (MaxPooling2D)   (None, 75, 75, 64)        0         \n",
      "_________________________________________________________________\n",
      "block2_conv1 (Conv2D)        (None, 75, 75, 128)       73856     \n",
      "_________________________________________________________________\n",
      "block2_conv2 (Conv2D)        (None, 75, 75, 128)       147584    \n",
      "_________________________________________________________________\n",
      "block2_pool (MaxPooling2D)   (None, 37, 37, 128)       0         \n",
      "_________________________________________________________________\n",
      "block3_conv1 (Conv2D)        (None, 37, 37, 256)       295168    \n",
      "_________________________________________________________________\n",
      "block3_conv2 (Conv2D)        (None, 37, 37, 256)       590080    \n",
      "_________________________________________________________________\n",
      "block3_conv3 (Conv2D)        (None, 37, 37, 256)       590080    \n",
      "_________________________________________________________________\n",
      "block3_pool (MaxPooling2D)   (None, 18, 18, 256)       0         \n",
      "_________________________________________________________________\n",
      "block4_conv1 (Conv2D)        (None, 18, 18, 512)       1180160   \n",
      "_________________________________________________________________\n",
      "block4_conv2 (Conv2D)        (None, 18, 18, 512)       2359808   \n",
      "_________________________________________________________________\n",
      "block4_conv3 (Conv2D)        (None, 18, 18, 512)       2359808   \n",
      "_________________________________________________________________\n",
      "block4_pool (MaxPooling2D)   (None, 9, 9, 512)         0         \n",
      "_________________________________________________________________\n",
      "block5_conv1 (Conv2D)        (None, 9, 9, 512)         2359808   \n",
      "_________________________________________________________________\n",
      "block5_conv2 (Conv2D)        (None, 9, 9, 512)         2359808   \n",
      "_________________________________________________________________\n",
      "block5_conv3 (Conv2D)        (None, 9, 9, 512)         2359808   \n",
      "_________________________________________________________________\n",
      "block5_pool (MaxPooling2D)   (None, 4, 4, 512)         0         \n",
      "=================================================================\n",
      "Total params: 14,714,688\n",
      "Trainable params: 14,714,688\n",
      "Non-trainable params: 0\n",
      "_________________________________________________________________\n"
     ]
    }
   ],
   "source": [
    "conv_base.summary()"
   ]
  },
  {
   "cell_type": "markdown",
   "metadata": {
    "colab_type": "text",
    "id": "iKjzQm-7k63M"
   },
   "source": [
    "学習済み畳み込みベースを使って特徴量を抽出"
   ]
  },
  {
   "cell_type": "code",
   "execution_count": 0,
   "metadata": {
    "colab": {},
    "colab_type": "code",
    "id": "JEd_gjN41NLU"
   },
   "outputs": [],
   "source": [
    "import os\n",
    "\n",
    "os.chdir('drive/My Drive/機械学習')"
   ]
  },
  {
   "cell_type": "code",
   "execution_count": 6,
   "metadata": {
    "colab": {
     "base_uri": "https://localhost:8080/",
     "height": 68
    },
    "colab_type": "code",
    "executionInfo": {
     "elapsed": 1741669,
     "status": "ok",
     "timestamp": 1538645039122,
     "user": {
      "displayName": "カピカピ",
      "photoUrl": "",
      "userId": "07721522032221112506"
     },
     "user_tz": -540
    },
    "id": "obJ-NDgBy8va",
    "outputId": "80cc0a0c-c22a-4b98-c16c-8f3e23d67025"
   },
   "outputs": [
    {
     "name": "stdout",
     "output_type": "stream",
     "text": [
      "Found 2000 images belonging to 2 classes.\n",
      "Found 1000 images belonging to 2 classes.\n",
      "Found 1000 images belonging to 2 classes.\n"
     ]
    }
   ],
   "source": [
    "import os\n",
    "import numpy as np\n",
    "from keras.preprocessing.image import ImageDataGenerator\n",
    "\n",
    "# 前ノートでsmallデータを格納したディレクトリへのパスであることに注意\n",
    "base_dir = 'cats_and_dogs_small'\n",
    "\n",
    "train_dir = os.path.join(base_dir, 'train')\n",
    "validation_dir = os.path.join(base_dir, 'validation')\n",
    "test_dir = os.path.join(base_dir, 'test')\n",
    "\n",
    "datagen = ImageDataGenerator(rescale=1./255)\n",
    "batch_size = 20\n",
    "\n",
    "def extract_features(directory, sample_count):\n",
    "    features = np.zeros(shape=(sample_count, 4, 4, 512))\n",
    "    labels = np.zeros(shape=(sample_count))\n",
    "    generator = datagen.flow_from_directory(directory, target_size=(150, 150), batch_size=batch_size, class_mode='binary')\n",
    "    i = 0\n",
    "    for inputs_batch, labels_batch in generator:\n",
    "        features_batch = conv_base.predict(inputs_batch)\n",
    "        features[i * batch_size : (i + 1) * batch_size] = features_batch\n",
    "        labels[i * batch_size : (i + 1) * batch_size] = labels_batch\n",
    "        i += 1\n",
    "        if i * batch_size >= sample_count:\n",
    "        # ジェネレータはデータを無限に生成するため、画像をひととおり処理したらbreakしなければならない\n",
    "            break\n",
    "      \n",
    "    return features, labels\n",
    "\n",
    "train_features, train_labels = extract_features(train_dir, 2000)\n",
    "validation_features, validation_labels = extract_features(validation_dir, 1000)\n",
    "test_features, test_labels = extract_features(test_dir, 1000)"
   ]
  },
  {
   "cell_type": "markdown",
   "metadata": {
    "colab_type": "text",
    "id": "HR-NmTlEYDNh"
   },
   "source": [
    "抽出された特徴量の現時点の形状は(sample, 4, 4, 512)\n",
    "全結合分類器に供給する為に(sample, 8192)に平坦化"
   ]
  },
  {
   "cell_type": "code",
   "execution_count": 0,
   "metadata": {
    "colab": {},
    "colab_type": "code",
    "id": "hlmNsPxWoPUW"
   },
   "outputs": [],
   "source": [
    "train_features = np.reshape(train_features, (2000, 4 * 4 * 512))\n",
    "validation_features = np.reshape(validation_features, (1000, 4 * 4 * 512))\n",
    "test_features = np.reshape(test_features, (1000, 4 * 4 * 512))"
   ]
  },
  {
   "cell_type": "markdown",
   "metadata": {
    "colab_type": "text",
    "id": "mkQL9k6No_bp"
   },
   "source": [
    "全結合分類器の定義と訓練"
   ]
  },
  {
   "cell_type": "code",
   "execution_count": 8,
   "metadata": {
    "colab": {
     "base_uri": "https://localhost:8080/",
     "height": 1054
    },
    "colab_type": "code",
    "executionInfo": {
     "elapsed": 28703,
     "status": "ok",
     "timestamp": 1538645070240,
     "user": {
      "displayName": "カピカピ",
      "photoUrl": "",
      "userId": "07721522032221112506"
     },
     "user_tz": -540
    },
    "id": "2hI6nzFspGQR",
    "outputId": "d6190427-e004-4de6-bc46-aae59071161a"
   },
   "outputs": [
    {
     "name": "stdout",
     "output_type": "stream",
     "text": [
      "Train on 2000 samples, validate on 1000 samples\n",
      "Epoch 1/30\n",
      "2000/2000 [==============================] - 1s 657us/step - loss: 0.5901 - acc: 0.6750 - val_loss: 0.4490 - val_acc: 0.8430\n",
      "Epoch 2/30\n",
      "2000/2000 [==============================] - 1s 428us/step - loss: 0.4375 - acc: 0.8035 - val_loss: 0.3670 - val_acc: 0.8580\n",
      "Epoch 3/30\n",
      "2000/2000 [==============================] - 1s 439us/step - loss: 0.3535 - acc: 0.8545 - val_loss: 0.3259 - val_acc: 0.8700\n",
      "Epoch 4/30\n",
      "2000/2000 [==============================] - 1s 436us/step - loss: 0.3264 - acc: 0.8610 - val_loss: 0.3170 - val_acc: 0.8670\n",
      "Epoch 5/30\n",
      "2000/2000 [==============================] - 1s 433us/step - loss: 0.2933 - acc: 0.8820 - val_loss: 0.2887 - val_acc: 0.8860\n",
      "Epoch 6/30\n",
      "2000/2000 [==============================] - 1s 442us/step - loss: 0.2676 - acc: 0.8935 - val_loss: 0.2745 - val_acc: 0.8910\n",
      "Epoch 7/30\n",
      "2000/2000 [==============================] - 1s 439us/step - loss: 0.2492 - acc: 0.9035 - val_loss: 0.2652 - val_acc: 0.8930\n",
      "Epoch 8/30\n",
      "2000/2000 [==============================] - 1s 435us/step - loss: 0.2464 - acc: 0.9135 - val_loss: 0.2749 - val_acc: 0.8830\n",
      "Epoch 9/30\n",
      "2000/2000 [==============================] - 1s 429us/step - loss: 0.2267 - acc: 0.9160 - val_loss: 0.2599 - val_acc: 0.8910\n",
      "Epoch 10/30\n",
      "2000/2000 [==============================] - 1s 443us/step - loss: 0.2075 - acc: 0.9205 - val_loss: 0.2544 - val_acc: 0.8930\n",
      "Epoch 11/30\n",
      "2000/2000 [==============================] - 1s 431us/step - loss: 0.2056 - acc: 0.9210 - val_loss: 0.2461 - val_acc: 0.8970\n",
      "Epoch 12/30\n",
      "2000/2000 [==============================] - 1s 432us/step - loss: 0.1925 - acc: 0.9325 - val_loss: 0.2429 - val_acc: 0.8980\n",
      "Epoch 13/30\n",
      "2000/2000 [==============================] - 1s 437us/step - loss: 0.1833 - acc: 0.9315 - val_loss: 0.2470 - val_acc: 0.8990\n",
      "Epoch 14/30\n",
      "2000/2000 [==============================] - 1s 440us/step - loss: 0.1756 - acc: 0.9320 - val_loss: 0.2392 - val_acc: 0.9000\n",
      "Epoch 15/30\n",
      "2000/2000 [==============================] - 1s 429us/step - loss: 0.1665 - acc: 0.9415 - val_loss: 0.2475 - val_acc: 0.8990\n",
      "Epoch 16/30\n",
      "2000/2000 [==============================] - 1s 436us/step - loss: 0.1592 - acc: 0.9470 - val_loss: 0.2378 - val_acc: 0.9000\n",
      "Epoch 17/30\n",
      "2000/2000 [==============================] - 1s 455us/step - loss: 0.1525 - acc: 0.9545 - val_loss: 0.2496 - val_acc: 0.8960\n",
      "Epoch 18/30\n",
      "2000/2000 [==============================] - 1s 461us/step - loss: 0.1505 - acc: 0.9455 - val_loss: 0.2448 - val_acc: 0.8980\n",
      "Epoch 19/30\n",
      "2000/2000 [==============================] - 1s 462us/step - loss: 0.1474 - acc: 0.9505 - val_loss: 0.2356 - val_acc: 0.8970\n",
      "Epoch 20/30\n",
      "2000/2000 [==============================] - 1s 460us/step - loss: 0.1375 - acc: 0.9550 - val_loss: 0.2374 - val_acc: 0.9000\n",
      "Epoch 21/30\n",
      "2000/2000 [==============================] - 1s 466us/step - loss: 0.1335 - acc: 0.9530 - val_loss: 0.2448 - val_acc: 0.9020\n",
      "Epoch 22/30\n",
      "2000/2000 [==============================] - 1s 453us/step - loss: 0.1283 - acc: 0.9550 - val_loss: 0.2358 - val_acc: 0.9000\n",
      "Epoch 23/30\n",
      "2000/2000 [==============================] - 1s 458us/step - loss: 0.1268 - acc: 0.9575 - val_loss: 0.2361 - val_acc: 0.8970\n",
      "Epoch 24/30\n",
      "2000/2000 [==============================] - 1s 459us/step - loss: 0.1191 - acc: 0.9625 - val_loss: 0.2429 - val_acc: 0.9070\n",
      "Epoch 25/30\n",
      "2000/2000 [==============================] - 1s 453us/step - loss: 0.1150 - acc: 0.9635 - val_loss: 0.2358 - val_acc: 0.8960\n",
      "Epoch 26/30\n",
      "2000/2000 [==============================] - 1s 454us/step - loss: 0.1089 - acc: 0.9660 - val_loss: 0.2486 - val_acc: 0.9000\n",
      "Epoch 27/30\n",
      "2000/2000 [==============================] - 1s 457us/step - loss: 0.1044 - acc: 0.9700 - val_loss: 0.2366 - val_acc: 0.8980\n",
      "Epoch 28/30\n",
      "2000/2000 [==============================] - 1s 458us/step - loss: 0.1069 - acc: 0.9640 - val_loss: 0.2371 - val_acc: 0.8980\n",
      "Epoch 29/30\n",
      "2000/2000 [==============================] - 1s 459us/step - loss: 0.0992 - acc: 0.9725 - val_loss: 0.2387 - val_acc: 0.9030\n",
      "Epoch 30/30\n",
      "2000/2000 [==============================] - 1s 451us/step - loss: 0.0971 - acc: 0.9730 - val_loss: 0.2455 - val_acc: 0.9020\n"
     ]
    }
   ],
   "source": [
    "from keras import models\n",
    "from keras import layers\n",
    "from keras import optimizers\n",
    "\n",
    "model = models.Sequential()\n",
    "model.add(layers.Dense(256, activation='relu', input_dim=4 * 4 * 512))\n",
    "model.add(layers.Dropout(0.5))\n",
    "model.add(layers.Dense(1, activation='sigmoid'))\n",
    "\n",
    "model.compile(optimizer=optimizers.RMSprop(lr=2e-5),\n",
    "             loss='binary_crossentropy',\n",
    "             metrics=['acc'])\n",
    "\n",
    "history = model.fit(train_features, train_labels,\n",
    "                   epochs=30,\n",
    "                   batch_size=20,\n",
    "                   validation_data=(validation_features, validation_labels))"
   ]
  },
  {
   "cell_type": "markdown",
   "metadata": {
    "colab_type": "text",
    "id": "YjyP49LYrEon"
   },
   "source": [
    "結果をプロット"
   ]
  },
  {
   "cell_type": "code",
   "execution_count": 9,
   "metadata": {
    "colab": {
     "base_uri": "https://localhost:8080/",
     "height": 707
    },
    "colab_type": "code",
    "executionInfo": {
     "elapsed": 1555,
     "status": "ok",
     "timestamp": 1538645071871,
     "user": {
      "displayName": "カピカピ",
      "photoUrl": "",
      "userId": "07721522032221112506"
     },
     "user_tz": -540
    },
    "id": "Qe_kjvfjq8so",
    "outputId": "47c554aa-3eb6-4904-ffe7-9ddb724ab698"
   },
   "outputs": [
    {
     "data": {
      "image/png": "[encoded data removed]",
      "text/plain": [
       "<matplotlib.figure.Figure at 0x7f705482ef28>"
      ]
     },
     "metadata": {
      "tags": []
     },
     "output_type": "display_data"
    },
    {
     "data": {
      "image/png": "[encoded data removed]",
      "text/plain": [
       "<matplotlib.figure.Figure at 0x7f7054806780>"
      ]
     },
     "metadata": {
      "tags": []
     },
     "output_type": "display_data"
    }
   ],
   "source": [
    "import matplotlib.pyplot as plt\n",
    "\n",
    "acc = history.history['acc']\n",
    "val_acc = history.history['val_acc']\n",
    "loss = history.history['loss']\n",
    "val_loss = history.history['val_loss']\n",
    "\n",
    "epochs = range(len(acc))\n",
    "\n",
    "# 正解率をプロット\n",
    "plt.plot(epochs, acc, 'bo', label='Training acc')\n",
    "plt.plot(epochs, val_acc, 'b', label='Validation acc')\n",
    "plt.title('Training and validation accuracy')\n",
    "plt.legend()\n",
    "\n",
    "plt.figure()\n",
    "\n",
    "# 損失値をプロット\n",
    "plt.plot(epochs, loss, 'bo', label='Training loss')\n",
    "plt.plot(epochs, val_loss, 'b', label='Validation loss')\n",
    "plt.title('Training and validation loss')\n",
    "plt.legend()\n",
    "\n",
    "plt.show()"
   ]
  },
  {
   "cell_type": "markdown",
   "metadata": {
    "colab_type": "text",
    "id": "0Df3TUUkPY0H"
   },
   "source": [
    "# データ拡張を行う特徴抽出"
   ]
  },
  {
   "cell_type": "markdown",
   "metadata": {
    "colab_type": "text",
    "id": "hHK03i46VEgT"
   },
   "source": [
    "畳み込みベースに全結合分類器を追加"
   ]
  },
  {
   "cell_type": "code",
   "execution_count": 0,
   "metadata": {
    "colab": {},
    "colab_type": "code",
    "id": "dwnMdthNVED0"
   },
   "outputs": [],
   "source": [
    "from keras import models\n",
    "from keras import layers\n",
    "\n",
    "model = models.Sequential()\n",
    "model.add(conv_base)\n",
    "model.add(layers.Flatten())\n",
    "model.add(layers.Dense(256, activation='relu'))\n",
    "model.add(layers.Dense(1, activation='sigmoid'))"
   ]
  },
  {
   "cell_type": "code",
   "execution_count": 11,
   "metadata": {
    "colab": {
     "base_uri": "https://localhost:8080/",
     "height": 272
    },
    "colab_type": "code",
    "executionInfo": {
     "elapsed": 1983,
     "status": "ok",
     "timestamp": 1538645075209,
     "user": {
      "displayName": "カピカピ",
      "photoUrl": "",
      "userId": "07721522032221112506"
     },
     "user_tz": -540
    },
    "id": "YwXBo6CSWMYT",
    "outputId": "1a1cb95a-52bd-4397-c59c-f8f829dce924"
   },
   "outputs": [
    {
     "name": "stdout",
     "output_type": "stream",
     "text": [
      "_________________________________________________________________\n",
      "Layer (type)                 Output Shape              Param #   \n",
      "=================================================================\n",
      "vgg16 (Model)                (None, 4, 4, 512)         14714688  \n",
      "_________________________________________________________________\n",
      "flatten_1 (Flatten)          (None, 8192)              0         \n",
      "_________________________________________________________________\n",
      "dense_3 (Dense)              (None, 256)               2097408   \n",
      "_________________________________________________________________\n",
      "dense_4 (Dense)              (None, 1)                 257       \n",
      "=================================================================\n",
      "Total params: 16,812,353\n",
      "Trainable params: 16,812,353\n",
      "Non-trainable params: 0\n",
      "_________________________________________________________________\n"
     ]
    }
   ],
   "source": [
    "model.summary()"
   ]
  },
  {
   "cell_type": "markdown",
   "metadata": {
    "colab_type": "text",
    "id": "MJ00phUyWcnk"
   },
   "source": [
    "分類器だけを学習させたいので畳み込みベース（VGG16）を凍結させる"
   ]
  },
  {
   "cell_type": "code",
   "execution_count": 12,
   "metadata": {
    "colab": {
     "base_uri": "https://localhost:8080/",
     "height": 34
    },
    "colab_type": "code",
    "executionInfo": {
     "elapsed": 1260,
     "status": "ok",
     "timestamp": 1538645076601,
     "user": {
      "displayName": "カピカピ",
      "photoUrl": "",
      "userId": "07721522032221112506"
     },
     "user_tz": -540
    },
    "id": "QO3KMWSUW2Uy",
    "outputId": "ccbf005a-b9ea-4c47-a110-7e77a764c00a"
   },
   "outputs": [
    {
     "name": "stdout",
     "output_type": "stream",
     "text": [
      "This is the number of trainable weights before freezing the conv base: 30\n"
     ]
    }
   ],
   "source": [
    "print('This is the number of trainable weights ''before freezing the conv base:', len(model.trainable_weights))"
   ]
  },
  {
   "cell_type": "code",
   "execution_count": 13,
   "metadata": {
    "colab": {
     "base_uri": "https://localhost:8080/",
     "height": 34
    },
    "colab_type": "code",
    "executionInfo": {
     "elapsed": 1072,
     "status": "ok",
     "timestamp": 1538645077749,
     "user": {
      "displayName": "カピカピ",
      "photoUrl": "",
      "userId": "07721522032221112506"
     },
     "user_tz": -540
    },
    "id": "gkcdplEzXRXJ",
    "outputId": "254f5038-06f8-4f9f-812a-005d490624e9"
   },
   "outputs": [
    {
     "name": "stdout",
     "output_type": "stream",
     "text": [
      "This is the number of trainable weights after freezing the conv base: 4\n"
     ]
    }
   ],
   "source": [
    "conv_base.trainable = False\n",
    "print('This is the number of trainable weights ''after freezing the conv base:', len(model.trainable_weights))"
   ]
  },
  {
   "cell_type": "markdown",
   "metadata": {
    "colab_type": "text",
    "id": "0-mw0d9YX6Oq"
   },
   "source": [
    "凍結された畳み込みベースを使ってモデル全体を訓練"
   ]
  },
  {
   "cell_type": "code",
   "execution_count": 14,
   "metadata": {
    "colab": {
     "base_uri": "https://localhost:8080/",
     "height": 1071
    },
    "colab_type": "code",
    "executionInfo": {
     "elapsed": 892007,
     "status": "ok",
     "timestamp": 1538645969832,
     "user": {
      "displayName": "カピカピ",
      "photoUrl": "",
      "userId": "07721522032221112506"
     },
     "user_tz": -540
    },
    "id": "2SF0r002XneJ",
    "outputId": "316d5cf2-dab5-4cd8-9139-56c8aae13374"
   },
   "outputs": [
    {
     "name": "stdout",
     "output_type": "stream",
     "text": [
      "Found 2000 images belonging to 2 classes.\n",
      "Found 1000 images belonging to 2 classes.\n",
      "Epoch 1/30\n",
      " - 32s - loss: 0.6066 - acc: 0.6730 - val_loss: 0.4720 - val_acc: 0.8090\n",
      "Epoch 2/30\n",
      " - 29s - loss: 0.4964 - acc: 0.7760 - val_loss: 0.3897 - val_acc: 0.8260\n",
      "Epoch 3/30\n",
      " - 29s - loss: 0.4405 - acc: 0.8045 - val_loss: 0.3419 - val_acc: 0.8680\n",
      "Epoch 4/30\n",
      " - 29s - loss: 0.4143 - acc: 0.8180 - val_loss: 0.3240 - val_acc: 0.8680\n",
      "Epoch 5/30\n",
      " - 29s - loss: 0.3867 - acc: 0.8295 - val_loss: 0.3011 - val_acc: 0.8740\n",
      "Epoch 6/30\n",
      " - 29s - loss: 0.3729 - acc: 0.8340 - val_loss: 0.2923 - val_acc: 0.8760\n",
      "Epoch 7/30\n",
      " - 30s - loss: 0.3622 - acc: 0.8435 - val_loss: 0.2827 - val_acc: 0.8830\n",
      "Epoch 8/30\n",
      " - 29s - loss: 0.3470 - acc: 0.8490 - val_loss: 0.2760 - val_acc: 0.8880\n",
      "Epoch 9/30\n",
      " - 29s - loss: 0.3379 - acc: 0.8470 - val_loss: 0.2655 - val_acc: 0.8880\n",
      "Epoch 10/30\n",
      " - 29s - loss: 0.3382 - acc: 0.8525 - val_loss: 0.2789 - val_acc: 0.8780\n",
      "Epoch 11/30\n",
      " - 29s - loss: 0.3304 - acc: 0.8570 - val_loss: 0.2585 - val_acc: 0.8930\n",
      "Epoch 12/30\n",
      " - 29s - loss: 0.3279 - acc: 0.8575 - val_loss: 0.2534 - val_acc: 0.8970\n",
      "Epoch 13/30\n",
      " - 30s - loss: 0.3260 - acc: 0.8570 - val_loss: 0.2536 - val_acc: 0.8970\n",
      "Epoch 14/30\n",
      " - 30s - loss: 0.3141 - acc: 0.8680 - val_loss: 0.2513 - val_acc: 0.8960\n",
      "Epoch 15/30\n",
      " - 30s - loss: 0.3162 - acc: 0.8645 - val_loss: 0.2560 - val_acc: 0.8940\n",
      "Epoch 16/30\n",
      " - 29s - loss: 0.3148 - acc: 0.8595 - val_loss: 0.2454 - val_acc: 0.9030\n",
      "Epoch 17/30\n",
      " - 30s - loss: 0.2960 - acc: 0.8690 - val_loss: 0.2469 - val_acc: 0.9030\n",
      "Epoch 18/30\n",
      " - 30s - loss: 0.3153 - acc: 0.8570 - val_loss: 0.2458 - val_acc: 0.8970\n",
      "Epoch 19/30\n",
      " - 29s - loss: 0.3060 - acc: 0.8665 - val_loss: 0.2460 - val_acc: 0.9000\n",
      "Epoch 20/30\n",
      " - 30s - loss: 0.3045 - acc: 0.8740 - val_loss: 0.2499 - val_acc: 0.8940\n",
      "Epoch 21/30\n",
      " - 29s - loss: 0.2841 - acc: 0.8740 - val_loss: 0.2460 - val_acc: 0.8960\n",
      "Epoch 22/30\n",
      " - 30s - loss: 0.2930 - acc: 0.8720 - val_loss: 0.2469 - val_acc: 0.8980\n",
      "Epoch 23/30\n",
      " - 30s - loss: 0.2902 - acc: 0.8680 - val_loss: 0.2471 - val_acc: 0.8950\n",
      "Epoch 24/30\n",
      " - 30s - loss: 0.2938 - acc: 0.8770 - val_loss: 0.2473 - val_acc: 0.8990\n",
      "Epoch 25/30\n",
      " - 30s - loss: 0.2887 - acc: 0.8835 - val_loss: 0.2458 - val_acc: 0.9040\n",
      "Epoch 26/30\n",
      " - 30s - loss: 0.2931 - acc: 0.8705 - val_loss: 0.2432 - val_acc: 0.8960\n",
      "Epoch 27/30\n",
      " - 30s - loss: 0.2865 - acc: 0.8785 - val_loss: 0.2420 - val_acc: 0.9000\n",
      "Epoch 28/30\n",
      " - 30s - loss: 0.2763 - acc: 0.8870 - val_loss: 0.2405 - val_acc: 0.9020\n",
      "Epoch 29/30\n",
      " - 30s - loss: 0.2962 - acc: 0.8735 - val_loss: 0.2389 - val_acc: 0.9050\n",
      "Epoch 30/30\n",
      " - 30s - loss: 0.2876 - acc: 0.8760 - val_loss: 0.2497 - val_acc: 0.8960\n"
     ]
    }
   ],
   "source": [
    "from keras.preprocessing.image import ImageDataGenerator\n",
    "\n",
    "train_datagen = ImageDataGenerator(\n",
    "rescale=1./255,\n",
    "rotation_range=40,\n",
    "width_shift_range=0.2,\n",
    "height_shift_range=0.2,\n",
    "shear_range=0.2,\n",
    "zoom_range=0.2,\n",
    "horizontal_flip=True,\n",
    "fill_mode='nearest')\n",
    "\n",
    "# 検証データは水増しすべきではないことに注意\n",
    "test_datagen = ImageDataGenerator(rescale=1./255)\n",
    "\n",
    "train_generator = train_datagen.flow_from_directory(\n",
    "train_dir,\n",
    "target_size=(150, 150),\n",
    "batch_size=20,\n",
    "class_mode='binary')\n",
    "\n",
    "validation_generator = test_datagen.flow_from_directory(\n",
    "validation_dir,\n",
    "target_size=(150, 150),\n",
    "batch_size=20,\n",
    "class_mode='binary')\n",
    "\n",
    "model.compile(loss='binary_crossentropy',\n",
    "             optimizer=optimizers.RMSprop(lr=2e-5),\n",
    "             metrics=['acc'])\n",
    "\n",
    "history = model.fit_generator(train_generator,\n",
    "                             steps_per_epoch=100,\n",
    "                             epochs=30,\n",
    "                             validation_data=validation_generator,\n",
    "                             validation_steps=50,\n",
    "                             verbose=2)"
   ]
  },
  {
   "cell_type": "markdown",
   "metadata": {
    "colab_type": "text",
    "id": "4Bd4wvlBf98V"
   },
   "source": [
    "結果をプロット"
   ]
  },
  {
   "cell_type": "code",
   "execution_count": 15,
   "metadata": {
    "colab": {
     "base_uri": "https://localhost:8080/",
     "height": 707
    },
    "colab_type": "code",
    "executionInfo": {
     "elapsed": 2273,
     "status": "ok",
     "timestamp": 1538645972145,
     "user": {
      "displayName": "カピカピ",
      "photoUrl": "",
      "userId": "07721522032221112506"
     },
     "user_tz": -540
    },
    "id": "Lk-FgPT5amnw",
    "outputId": "81ff5cb1-ffd9-431c-b2fd-f76943c26064"
   },
   "outputs": [
    {
     "data": {
      "image/png": "[encoded data removed]",
      "text/plain": [
       "<matplotlib.figure.Figure at 0x7f7054639a58>"
      ]
     },
     "metadata": {
      "tags": []
     },
     "output_type": "display_data"
    },
    {
     "data": {
      "image/png": "[encoded data removed]",
      "text/plain": [
       "<matplotlib.figure.Figure at 0x7f7053a183c8>"
      ]
     },
     "metadata": {
      "tags": []
     },
     "output_type": "display_data"
    }
   ],
   "source": [
    "acc = history.history['acc']\n",
    "val_acc = history.history['val_acc']\n",
    "loss = history.history['loss']\n",
    "val_loss = history.history['val_loss']\n",
    "\n",
    "epochs = range(len(acc))\n",
    "\n",
    "plt.plot(epochs, acc, 'bo', label='Training acc')\n",
    "plt.plot(epochs, val_acc, 'b', label='Validation acc')\n",
    "plt.title('Training and validation accuracy')\n",
    "plt.legend()\n",
    "\n",
    "plt.figure()\n",
    "\n",
    "plt.plot(epochs, loss, 'bo', label='Training loss')\n",
    "plt.plot(epochs, val_loss, 'b', label='Validation loss')\n",
    "plt.title('Training and validation loss')\n",
    "plt.legend()\n",
    "\n",
    "plt.show()"
   ]
  },
  {
   "cell_type": "markdown",
   "metadata": {
    "colab_type": "text",
    "id": "BVsGxiYGdMkn"
   },
   "source": [
    "# ファインチューニング"
   ]
  },
  {
   "cell_type": "code",
   "execution_count": 16,
   "metadata": {
    "colab": {
     "base_uri": "https://localhost:8080/",
     "height": 782
    },
    "colab_type": "code",
    "executionInfo": {
     "elapsed": 1335,
     "status": "ok",
     "timestamp": 1538652991679,
     "user": {
      "displayName": "カピカピ",
      "photoUrl": "",
      "userId": "07721522032221112506"
     },
     "user_tz": -540
    },
    "id": "fFfBjdwPsjbm",
    "outputId": "b057db62-8687-49f7-c8d2-8672e3dc0f74"
   },
   "outputs": [
    {
     "name": "stdout",
     "output_type": "stream",
     "text": [
      "_________________________________________________________________\n",
      "Layer (type)                 Output Shape              Param #   \n",
      "=================================================================\n",
      "input_1 (InputLayer)         (None, 150, 150, 3)       0         \n",
      "_________________________________________________________________\n",
      "block1_conv1 (Conv2D)        (None, 150, 150, 64)      1792      \n",
      "_________________________________________________________________\n",
      "block1_conv2 (Conv2D)        (None, 150, 150, 64)      36928     \n",
      "_________________________________________________________________\n",
      "block1_pool (MaxPooling2D)   (None, 75, 75, 64)        0         \n",
      "_________________________________________________________________\n",
      "block2_conv1 (Conv2D)        (None, 75, 75, 128)       73856     \n",
      "_________________________________________________________________\n",
      "block2_conv2 (Conv2D)        (None, 75, 75, 128)       147584    \n",
      "_________________________________________________________________\n",
      "block2_pool (MaxPooling2D)   (None, 37, 37, 128)       0         \n",
      "_________________________________________________________________\n",
      "block3_conv1 (Conv2D)        (None, 37, 37, 256)       295168    \n",
      "_________________________________________________________________\n",
      "block3_conv2 (Conv2D)        (None, 37, 37, 256)       590080    \n",
      "_________________________________________________________________\n",
      "block3_conv3 (Conv2D)        (None, 37, 37, 256)       590080    \n",
      "_________________________________________________________________\n",
      "block3_pool (MaxPooling2D)   (None, 18, 18, 256)       0         \n",
      "_________________________________________________________________\n",
      "block4_conv1 (Conv2D)        (None, 18, 18, 512)       1180160   \n",
      "_________________________________________________________________\n",
      "block4_conv2 (Conv2D)        (None, 18, 18, 512)       2359808   \n",
      "_________________________________________________________________\n",
      "block4_conv3 (Conv2D)        (None, 18, 18, 512)       2359808   \n",
      "_________________________________________________________________\n",
      "block4_pool (MaxPooling2D)   (None, 9, 9, 512)         0         \n",
      "_________________________________________________________________\n",
      "block5_conv1 (Conv2D)        (None, 9, 9, 512)         2359808   \n",
      "_________________________________________________________________\n",
      "block5_conv2 (Conv2D)        (None, 9, 9, 512)         2359808   \n",
      "_________________________________________________________________\n",
      "block5_conv3 (Conv2D)        (None, 9, 9, 512)         2359808   \n",
      "_________________________________________________________________\n",
      "block5_pool (MaxPooling2D)   (None, 4, 4, 512)         0         \n",
      "=================================================================\n",
      "Total params: 14,714,688\n",
      "Trainable params: 0\n",
      "Non-trainable params: 14,714,688\n",
      "_________________________________________________________________\n"
     ]
    }
   ],
   "source": [
    "conv_base.summary()"
   ]
  },
  {
   "cell_type": "markdown",
   "metadata": {
    "colab_type": "text",
    "id": "wx-IIrJ03jcf"
   },
   "source": [
    "最初から特定の層までを全て凍結"
   ]
  },
  {
   "cell_type": "code",
   "execution_count": 0,
   "metadata": {
    "colab": {},
    "colab_type": "code",
    "id": "7gVH_MT23Wsr"
   },
   "outputs": [],
   "source": [
    "conv_base.trainable = True\n",
    "\n",
    "set_trainable = False\n",
    "for layers in conv_base.layers:\n",
    "    if layers.name == 'block5_conv1':\n",
    "        set_trainable = True\n",
    "    if set_trainable:\n",
    "        layers.trainable = True\n",
    "    else:\n",
    "        layers.trainable = False"
   ]
  },
  {
   "cell_type": "markdown",
   "metadata": {
    "colab_type": "text",
    "id": "U61s9GpV5IuF"
   },
   "source": [
    "モデルのファインチューニング"
   ]
  },
  {
   "cell_type": "code",
   "execution_count": 19,
   "metadata": {
    "colab": {
     "base_uri": "https://localhost:8080/",
     "height": 3417
    },
    "colab_type": "code",
    "executionInfo": {
     "elapsed": 3110489,
     "status": "ok",
     "timestamp": 1538656951117,
     "user": {
      "displayName": "カピカピ",
      "photoUrl": "",
      "userId": "07721522032221112506"
     },
     "user_tz": -540
    },
    "id": "6wIYni4Z5Ln1",
    "outputId": "318dcc4e-4629-4a8c-8a67-4bb73d6be007"
   },
   "outputs": [
    {
     "name": "stdout",
     "output_type": "stream",
     "text": [
      "Epoch 1/100\n",
      "100/100 [==============================] - 33s 332ms/step - loss: 0.2913 - acc: 0.8790 - val_loss: 0.2242 - val_acc: 0.9110\n",
      "Epoch 2/100\n",
      "100/100 [==============================] - 31s 314ms/step - loss: 0.2582 - acc: 0.8900 - val_loss: 0.2253 - val_acc: 0.9190\n",
      "Epoch 3/100\n",
      "100/100 [==============================] - 31s 310ms/step - loss: 0.2316 - acc: 0.9010 - val_loss: 0.2116 - val_acc: 0.9180\n",
      "Epoch 4/100\n",
      "100/100 [==============================] - 31s 310ms/step - loss: 0.2189 - acc: 0.9065 - val_loss: 0.1954 - val_acc: 0.9180\n",
      "Epoch 5/100\n",
      "100/100 [==============================] - 31s 312ms/step - loss: 0.2221 - acc: 0.9065 - val_loss: 0.1960 - val_acc: 0.9200\n",
      "Epoch 6/100\n",
      "100/100 [==============================] - 31s 313ms/step - loss: 0.1924 - acc: 0.9205 - val_loss: 0.2047 - val_acc: 0.9210\n",
      "Epoch 7/100\n",
      "100/100 [==============================] - 31s 310ms/step - loss: 0.1859 - acc: 0.9220 - val_loss: 0.1919 - val_acc: 0.9270\n",
      "Epoch 8/100\n",
      "100/100 [==============================] - 31s 309ms/step - loss: 0.1717 - acc: 0.9355 - val_loss: 0.2201 - val_acc: 0.9190\n",
      "Epoch 9/100\n",
      "100/100 [==============================] - 31s 309ms/step - loss: 0.1597 - acc: 0.9365 - val_loss: 0.1982 - val_acc: 0.9320\n",
      "Epoch 10/100\n",
      "100/100 [==============================] - 31s 309ms/step - loss: 0.1632 - acc: 0.9285 - val_loss: 0.1878 - val_acc: 0.9330\n",
      "Epoch 11/100\n",
      "100/100 [==============================] - 31s 309ms/step - loss: 0.1493 - acc: 0.9375 - val_loss: 0.1801 - val_acc: 0.9390\n",
      "Epoch 12/100\n",
      "100/100 [==============================] - 31s 313ms/step - loss: 0.1308 - acc: 0.9505 - val_loss: 0.2191 - val_acc: 0.9210\n",
      "Epoch 13/100\n",
      "100/100 [==============================] - 31s 310ms/step - loss: 0.1378 - acc: 0.9435 - val_loss: 0.2000 - val_acc: 0.9300\n",
      "Epoch 14/100\n",
      "100/100 [==============================] - 31s 309ms/step - loss: 0.1199 - acc: 0.9515 - val_loss: 0.1797 - val_acc: 0.9370\n",
      "Epoch 15/100\n",
      "100/100 [==============================] - 31s 314ms/step - loss: 0.1152 - acc: 0.9520 - val_loss: 0.2075 - val_acc: 0.9290\n",
      "Epoch 16/100\n",
      "100/100 [==============================] - 31s 313ms/step - loss: 0.1150 - acc: 0.9605 - val_loss: 0.1815 - val_acc: 0.9350\n",
      "Epoch 17/100\n",
      "100/100 [==============================] - 31s 309ms/step - loss: 0.1249 - acc: 0.9515 - val_loss: 0.1777 - val_acc: 0.9250\n",
      "Epoch 18/100\n",
      "100/100 [==============================] - 31s 307ms/step - loss: 0.1192 - acc: 0.9515 - val_loss: 0.1699 - val_acc: 0.9340\n",
      "Epoch 19/100\n",
      "100/100 [==============================] - 31s 307ms/step - loss: 0.0929 - acc: 0.9670 - val_loss: 0.2332 - val_acc: 0.9230\n",
      "Epoch 20/100\n",
      "100/100 [==============================] - 31s 309ms/step - loss: 0.0971 - acc: 0.9640 - val_loss: 0.2037 - val_acc: 0.9310\n",
      "Epoch 21/100\n",
      "100/100 [==============================] - 31s 308ms/step - loss: 0.0899 - acc: 0.9650 - val_loss: 0.1989 - val_acc: 0.9340\n",
      "Epoch 22/100\n",
      "100/100 [==============================] - 31s 312ms/step - loss: 0.0822 - acc: 0.9685 - val_loss: 0.1938 - val_acc: 0.9350\n",
      "Epoch 23/100\n",
      "100/100 [==============================] - 31s 307ms/step - loss: 0.0924 - acc: 0.9635 - val_loss: 0.1780 - val_acc: 0.9340\n",
      "Epoch 24/100\n",
      "100/100 [==============================] - 31s 313ms/step - loss: 0.0743 - acc: 0.9710 - val_loss: 0.1932 - val_acc: 0.9350\n",
      "Epoch 25/100\n",
      "100/100 [==============================] - 31s 312ms/step - loss: 0.0747 - acc: 0.9690 - val_loss: 0.2428 - val_acc: 0.9270\n",
      "Epoch 26/100\n",
      "100/100 [==============================] - 31s 313ms/step - loss: 0.0733 - acc: 0.9725 - val_loss: 0.1816 - val_acc: 0.9380\n",
      "Epoch 27/100\n",
      "100/100 [==============================] - 31s 310ms/step - loss: 0.0730 - acc: 0.9730 - val_loss: 0.2096 - val_acc: 0.9290\n",
      "Epoch 28/100\n",
      "100/100 [==============================] - 31s 309ms/step - loss: 0.0653 - acc: 0.9780 - val_loss: 0.2038 - val_acc: 0.9410\n",
      "Epoch 29/100\n",
      "100/100 [==============================] - 31s 311ms/step - loss: 0.0736 - acc: 0.9735 - val_loss: 0.1939 - val_acc: 0.9350\n",
      "Epoch 30/100\n",
      "100/100 [==============================] - 31s 309ms/step - loss: 0.0764 - acc: 0.9700 - val_loss: 0.1933 - val_acc: 0.9310\n",
      "Epoch 31/100\n",
      "100/100 [==============================] - 31s 309ms/step - loss: 0.0623 - acc: 0.9775 - val_loss: 0.2086 - val_acc: 0.9290\n",
      "Epoch 32/100\n",
      "100/100 [==============================] - 31s 314ms/step - loss: 0.0727 - acc: 0.9725 - val_loss: 0.2857 - val_acc: 0.9190\n",
      "Epoch 33/100\n",
      "100/100 [==============================] - 31s 310ms/step - loss: 0.0717 - acc: 0.9725 - val_loss: 0.1775 - val_acc: 0.9360\n",
      "Epoch 34/100\n",
      "100/100 [==============================] - 31s 310ms/step - loss: 0.0637 - acc: 0.9760 - val_loss: 0.1894 - val_acc: 0.9360\n",
      "Epoch 35/100\n",
      "100/100 [==============================] - 31s 310ms/step - loss: 0.0492 - acc: 0.9830 - val_loss: 0.2042 - val_acc: 0.9320\n",
      "Epoch 36/100\n",
      "100/100 [==============================] - 31s 310ms/step - loss: 0.0606 - acc: 0.9770 - val_loss: 0.2751 - val_acc: 0.9240\n",
      "Epoch 37/100\n",
      "100/100 [==============================] - 31s 309ms/step - loss: 0.0631 - acc: 0.9790 - val_loss: 0.1904 - val_acc: 0.9410\n",
      "Epoch 38/100\n",
      "100/100 [==============================] - 31s 311ms/step - loss: 0.0592 - acc: 0.9810 - val_loss: 0.3047 - val_acc: 0.9170\n",
      "Epoch 39/100\n",
      "100/100 [==============================] - 31s 309ms/step - loss: 0.0588 - acc: 0.9770 - val_loss: 0.2205 - val_acc: 0.9290\n",
      "Epoch 40/100\n",
      "100/100 [==============================] - 31s 308ms/step - loss: 0.0493 - acc: 0.9845 - val_loss: 0.2045 - val_acc: 0.9340\n",
      "Epoch 41/100\n",
      "100/100 [==============================] - 31s 308ms/step - loss: 0.0514 - acc: 0.9780 - val_loss: 0.2142 - val_acc: 0.9370\n",
      "Epoch 42/100\n",
      "100/100 [==============================] - 31s 312ms/step - loss: 0.0391 - acc: 0.9840 - val_loss: 0.1954 - val_acc: 0.9380\n",
      "Epoch 43/100\n",
      "100/100 [==============================] - 31s 314ms/step - loss: 0.0467 - acc: 0.9815 - val_loss: 0.1893 - val_acc: 0.9430\n",
      "Epoch 44/100\n",
      "100/100 [==============================] - 31s 313ms/step - loss: 0.0347 - acc: 0.9880 - val_loss: 0.1735 - val_acc: 0.9430\n",
      "Epoch 45/100\n",
      "100/100 [==============================] - 31s 313ms/step - loss: 0.0476 - acc: 0.9820 - val_loss: 0.1823 - val_acc: 0.9360\n",
      "Epoch 46/100\n",
      "100/100 [==============================] - 31s 311ms/step - loss: 0.0461 - acc: 0.9820 - val_loss: 0.2081 - val_acc: 0.9420\n",
      "Epoch 47/100\n",
      "100/100 [==============================] - 31s 310ms/step - loss: 0.0437 - acc: 0.9835 - val_loss: 0.2247 - val_acc: 0.9330\n",
      "Epoch 48/100\n",
      "100/100 [==============================] - 31s 307ms/step - loss: 0.0407 - acc: 0.9835 - val_loss: 0.2050 - val_acc: 0.9360\n",
      "Epoch 49/100\n",
      "100/100 [==============================] - 31s 309ms/step - loss: 0.0307 - acc: 0.9875 - val_loss: 0.2212 - val_acc: 0.9340\n",
      "Epoch 50/100\n",
      "100/100 [==============================] - 31s 309ms/step - loss: 0.0293 - acc: 0.9915 - val_loss: 0.2349 - val_acc: 0.9360\n",
      "Epoch 51/100\n",
      "100/100 [==============================] - 31s 307ms/step - loss: 0.0465 - acc: 0.9835 - val_loss: 0.2126 - val_acc: 0.9400\n",
      "Epoch 52/100\n",
      "100/100 [==============================] - 31s 312ms/step - loss: 0.0391 - acc: 0.9820 - val_loss: 0.2200 - val_acc: 0.9400\n",
      "Epoch 53/100\n",
      "100/100 [==============================] - 31s 311ms/step - loss: 0.0312 - acc: 0.9870 - val_loss: 0.2890 - val_acc: 0.9280\n",
      "Epoch 54/100\n",
      "100/100 [==============================] - 31s 314ms/step - loss: 0.0316 - acc: 0.9880 - val_loss: 0.3450 - val_acc: 0.9210\n",
      "Epoch 55/100\n",
      "100/100 [==============================] - 31s 313ms/step - loss: 0.0449 - acc: 0.9850 - val_loss: 0.2316 - val_acc: 0.9290\n",
      "Epoch 56/100\n",
      "100/100 [==============================] - 31s 312ms/step - loss: 0.0308 - acc: 0.9865 - val_loss: 0.2013 - val_acc: 0.9440\n",
      "Epoch 57/100\n",
      "100/100 [==============================] - 31s 313ms/step - loss: 0.0314 - acc: 0.9865 - val_loss: 0.2141 - val_acc: 0.9450\n",
      "Epoch 58/100\n",
      "100/100 [==============================] - 31s 309ms/step - loss: 0.0322 - acc: 0.9890 - val_loss: 0.2246 - val_acc: 0.9410\n",
      "Epoch 59/100\n",
      "100/100 [==============================] - 31s 310ms/step - loss: 0.0334 - acc: 0.9905 - val_loss: 0.2126 - val_acc: 0.9480\n",
      "Epoch 60/100\n",
      "100/100 [==============================] - 31s 308ms/step - loss: 0.0311 - acc: 0.9910 - val_loss: 0.2997 - val_acc: 0.9210\n",
      "Epoch 61/100\n",
      "100/100 [==============================] - 31s 310ms/step - loss: 0.0365 - acc: 0.9890 - val_loss: 0.2304 - val_acc: 0.9440\n",
      "Epoch 62/100\n",
      "100/100 [==============================] - 31s 313ms/step - loss: 0.0338 - acc: 0.9885 - val_loss: 0.2228 - val_acc: 0.9340\n",
      "Epoch 63/100\n",
      "100/100 [==============================] - 31s 312ms/step - loss: 0.0412 - acc: 0.9860 - val_loss: 0.2335 - val_acc: 0.9390\n",
      "Epoch 64/100\n",
      "100/100 [==============================] - 31s 310ms/step - loss: 0.0349 - acc: 0.9900 - val_loss: 0.2306 - val_acc: 0.9420\n",
      "Epoch 65/100\n",
      "100/100 [==============================] - 31s 310ms/step - loss: 0.0359 - acc: 0.9895 - val_loss: 0.2317 - val_acc: 0.9370\n",
      "Epoch 66/100\n",
      "100/100 [==============================] - 31s 310ms/step - loss: 0.0321 - acc: 0.9925 - val_loss: 0.2907 - val_acc: 0.9320\n",
      "Epoch 67/100\n",
      "100/100 [==============================] - 31s 309ms/step - loss: 0.0363 - acc: 0.9865 - val_loss: 0.2132 - val_acc: 0.9420\n",
      "Epoch 68/100\n",
      "100/100 [==============================] - 31s 310ms/step - loss: 0.0272 - acc: 0.9895 - val_loss: 0.3121 - val_acc: 0.9300\n",
      "Epoch 69/100\n",
      "100/100 [==============================] - 31s 309ms/step - loss: 0.0283 - acc: 0.9925 - val_loss: 0.2370 - val_acc: 0.9370\n",
      "Epoch 70/100\n",
      "100/100 [==============================] - 31s 309ms/step - loss: 0.0313 - acc: 0.9895 - val_loss: 0.2206 - val_acc: 0.9440\n",
      "Epoch 71/100\n",
      "100/100 [==============================] - 31s 309ms/step - loss: 0.0240 - acc: 0.9940 - val_loss: 0.2501 - val_acc: 0.9420\n",
      "Epoch 72/100\n",
      "100/100 [==============================] - 31s 314ms/step - loss: 0.0278 - acc: 0.9890 - val_loss: 0.2449 - val_acc: 0.9420\n",
      "Epoch 73/100\n",
      "100/100 [==============================] - 31s 313ms/step - loss: 0.0318 - acc: 0.9875 - val_loss: 0.2400 - val_acc: 0.9410\n",
      "Epoch 74/100\n",
      "100/100 [==============================] - 31s 312ms/step - loss: 0.0299 - acc: 0.9890 - val_loss: 0.2347 - val_acc: 0.9350\n",
      "Epoch 75/100\n",
      "100/100 [==============================] - 31s 312ms/step - loss: 0.0307 - acc: 0.9895 - val_loss: 0.2490 - val_acc: 0.9350\n",
      "Epoch 76/100\n",
      "100/100 [==============================] - 31s 311ms/step - loss: 0.0261 - acc: 0.9895 - val_loss: 0.2138 - val_acc: 0.9390\n",
      "Epoch 77/100\n",
      "100/100 [==============================] - 31s 310ms/step - loss: 0.0187 - acc: 0.9935 - val_loss: 0.2659 - val_acc: 0.9340\n",
      "Epoch 78/100\n",
      "100/100 [==============================] - 31s 312ms/step - loss: 0.0213 - acc: 0.9925 - val_loss: 0.2618 - val_acc: 0.9420\n",
      "Epoch 79/100\n",
      "100/100 [==============================] - 31s 310ms/step - loss: 0.0282 - acc: 0.9915 - val_loss: 0.2418 - val_acc: 0.9430\n",
      "Epoch 80/100\n",
      "100/100 [==============================] - 31s 311ms/step - loss: 0.0256 - acc: 0.9910 - val_loss: 0.2611 - val_acc: 0.9380\n",
      "Epoch 81/100\n",
      "100/100 [==============================] - 31s 309ms/step - loss: 0.0279 - acc: 0.9890 - val_loss: 0.2744 - val_acc: 0.9330\n",
      "Epoch 82/100\n",
      "100/100 [==============================] - 32s 315ms/step - loss: 0.0227 - acc: 0.9915 - val_loss: 0.2603 - val_acc: 0.9450\n",
      "Epoch 83/100\n",
      "100/100 [==============================] - 31s 310ms/step - loss: 0.0185 - acc: 0.9920 - val_loss: 0.3157 - val_acc: 0.9360\n",
      "Epoch 84/100\n",
      "100/100 [==============================] - 31s 312ms/step - loss: 0.0292 - acc: 0.9905 - val_loss: 0.3342 - val_acc: 0.9300\n",
      "Epoch 85/100\n",
      "100/100 [==============================] - 31s 309ms/step - loss: 0.0240 - acc: 0.9910 - val_loss: 0.2821 - val_acc: 0.9340\n",
      "Epoch 86/100\n",
      "100/100 [==============================] - 31s 311ms/step - loss: 0.0194 - acc: 0.9950 - val_loss: 0.2605 - val_acc: 0.9450\n",
      "Epoch 87/100\n",
      "100/100 [==============================] - 31s 310ms/step - loss: 0.0257 - acc: 0.9920 - val_loss: 0.2397 - val_acc: 0.9490\n",
      "Epoch 88/100\n",
      "100/100 [==============================] - 31s 311ms/step - loss: 0.0161 - acc: 0.9930 - val_loss: 0.2258 - val_acc: 0.9400\n",
      "Epoch 89/100\n",
      "100/100 [==============================] - 31s 311ms/step - loss: 0.0194 - acc: 0.9945 - val_loss: 0.2644 - val_acc: 0.9340\n",
      "Epoch 90/100\n",
      "100/100 [==============================] - 31s 313ms/step - loss: 0.0182 - acc: 0.9920 - val_loss: 0.2533 - val_acc: 0.9390\n",
      "Epoch 91/100\n",
      "100/100 [==============================] - 31s 312ms/step - loss: 0.0187 - acc: 0.9935 - val_loss: 0.2556 - val_acc: 0.9420\n",
      "Epoch 92/100\n",
      "100/100 [==============================] - 32s 315ms/step - loss: 0.0140 - acc: 0.9945 - val_loss: 0.3188 - val_acc: 0.9370\n",
      "Epoch 93/100\n",
      "100/100 [==============================] - 31s 315ms/step - loss: 0.0217 - acc: 0.9915 - val_loss: 0.2662 - val_acc: 0.9390\n",
      "Epoch 94/100\n",
      "100/100 [==============================] - 31s 313ms/step - loss: 0.0154 - acc: 0.9940 - val_loss: 0.7208 - val_acc: 0.8900\n",
      "Epoch 95/100\n",
      "100/100 [==============================] - 31s 311ms/step - loss: 0.0211 - acc: 0.9945 - val_loss: 0.3104 - val_acc: 0.9420\n",
      "Epoch 96/100\n",
      "100/100 [==============================] - 31s 311ms/step - loss: 0.0233 - acc: 0.9920 - val_loss: 0.3342 - val_acc: 0.9330\n",
      "Epoch 97/100\n",
      "100/100 [==============================] - 31s 310ms/step - loss: 0.0278 - acc: 0.9895 - val_loss: 0.3375 - val_acc: 0.9330\n",
      "Epoch 98/100\n",
      "100/100 [==============================] - 31s 310ms/step - loss: 0.0175 - acc: 0.9930 - val_loss: 0.2503 - val_acc: 0.9390\n",
      "Epoch 99/100\n",
      "100/100 [==============================] - 31s 310ms/step - loss: 0.0093 - acc: 0.9970 - val_loss: 0.2630 - val_acc: 0.9420\n",
      "Epoch 100/100\n",
      "100/100 [==============================] - 31s 312ms/step - loss: 0.0201 - acc: 0.9925 - val_loss: 0.2599 - val_acc: 0.9450\n"
     ]
    }
   ],
   "source": [
    "model.compile(loss='binary_crossentropy',\n",
    "             optimizer=optimizers.RMSprop(lr=1e-5),\n",
    "             metrics=['acc'])\n",
    "\n",
    "history = model.fit_generator(train_generator,\n",
    "                             steps_per_epoch=100,\n",
    "                             epochs=100,\n",
    "                             validation_data=validation_generator,\n",
    "                             validation_steps=50)"
   ]
  },
  {
   "cell_type": "markdown",
   "metadata": {
    "colab_type": "text",
    "id": "41xtA162Icax"
   },
   "source": [
    "結果をプロット"
   ]
  },
  {
   "cell_type": "code",
   "execution_count": 23,
   "metadata": {
    "colab": {
     "base_uri": "https://localhost:8080/",
     "height": 707
    },
    "colab_type": "code",
    "executionInfo": {
     "elapsed": 1963,
     "status": "ok",
     "timestamp": 1538659622897,
     "user": {
      "displayName": "カピカピ",
      "photoUrl": "",
      "userId": "07721522032221112506"
     },
     "user_tz": -540
    },
    "id": "oLVEvyRtIfjE",
    "outputId": "486bb849-bb95-406b-f4cd-bb3f2b7bb638"
   },
   "outputs": [
    {
     "data": {
      "image/png": "[encoded data removed]",
      "text/plain": [
       "<matplotlib.figure.Figure at 0x7f7053166eb8>"
      ]
     },
     "metadata": {
      "tags": []
     },
     "output_type": "display_data"
    },
    {
     "data": {
      "image/png": "[encoded data removed]",
      "text/plain": [
       "<matplotlib.figure.Figure at 0x7f70547d0b00>"
      ]
     },
     "metadata": {
      "tags": []
     },
     "output_type": "display_data"
    }
   ],
   "source": [
    "acc = history.history['acc']\n",
    "val_acc = history.history['val_acc']\n",
    "loss = history.history['loss']\n",
    "val_loss = history.history['val_loss']\n",
    "\n",
    "epochs = range(len(acc))\n",
    "\n",
    "plt.plot(epochs, acc, 'bo', label='Training acc')\n",
    "plt.plot(epochs, val_acc, 'b', label='Validation acc')\n",
    "plt.title('Training and validation accuracy')\n",
    "plt.legend()\n",
    "\n",
    "plt.figure()\n",
    "\n",
    "plt.plot(epochs, loss, 'bo', label='Training loss')\n",
    "plt.plot(epochs, val_loss, 'b', label='Validation loss')\n",
    "plt.title('Training and validation loss')\n",
    "plt.legend()\n",
    "\n",
    "plt.show()"
   ]
  },
  {
   "cell_type": "markdown",
   "metadata": {
    "colab_type": "text",
    "id": "d48NFcFzJGMv"
   },
   "source": [
    "プロットのスムージング"
   ]
  },
  {
   "cell_type": "code",
   "execution_count": 28,
   "metadata": {
    "colab": {
     "base_uri": "https://localhost:8080/",
     "height": 707
    },
    "colab_type": "code",
    "executionInfo": {
     "elapsed": 1822,
     "status": "ok",
     "timestamp": 1538660213319,
     "user": {
      "displayName": "カピカピ",
      "photoUrl": "",
      "userId": "07721522032221112506"
     },
     "user_tz": -540
    },
    "id": "RmYu8T0PIgW2",
    "outputId": "d841d92a-4fd0-472d-8630-ee3484d212bf"
   },
   "outputs": [
    {
     "data": {
      "image/png": "[encoded data removed]",
      "text/plain": [
       "<matplotlib.figure.Figure at 0x7f7053958fd0>"
      ]
     },
     "metadata": {
      "tags": []
     },
     "output_type": "display_data"
    },
    {
     "data": {
      "image/png": "[encoded data removed]",
      "text/plain": [
       "<matplotlib.figure.Figure at 0x7f7053399c88>"
      ]
     },
     "metadata": {
      "tags": []
     },
     "output_type": "display_data"
    }
   ],
   "source": [
    "def smooth_curve(points, factor=0.8):\n",
    "  smoothed_points = []\n",
    "  for point in points:\n",
    "    if smoothed_points:\n",
    "      previous = smoothed_points[-1]\n",
    "      smoothed_points.append(previous * factor + point * (1 - factor))\n",
    "    else:\n",
    "      smoothed_points.append(point)\n",
    "  return smoothed_points\n",
    "\n",
    "plt.plot(epochs, smooth_curve(acc), 'bo', label='Smoothed training acc')\n",
    "plt.plot(epochs, smooth_curve(val_acc), 'b', label='Smoothed validation acc')\n",
    "plt.title('Training and validation accuracy')\n",
    "plt.legend()\n",
    "\n",
    "plt.figure()\n",
    "\n",
    "plt.plot(epochs, smooth_curve(loss), 'bo', label='Smoothed training loss')\n",
    "plt.plot(epochs, smooth_curve(val_loss), 'b', label='Smoothed validation loss')\n",
    "plt.title('Training and validation loss')\n",
    "plt.legend()\n",
    "\n",
    "plt.show()"
   ]
  },
  {
   "cell_type": "markdown",
   "metadata": {
    "colab_type": "text",
    "id": "x3QftWBRV3iD"
   },
   "source": [
    "テストデータでの評価"
   ]
  },
  {
   "cell_type": "code",
   "execution_count": 29,
   "metadata": {
    "colab": {
     "base_uri": "https://localhost:8080/",
     "height": 51
    },
    "colab_type": "code",
    "executionInfo": {
     "elapsed": 7497,
     "status": "ok",
     "timestamp": 1538661170721,
     "user": {
      "displayName": "カピカピ",
      "photoUrl": "",
      "userId": "07721522032221112506"
     },
     "user_tz": -540
    },
    "id": "S5U5Dx_rQzvo",
    "outputId": "76d0610e-f8b4-4331-99c4-d9587810e2c7"
   },
   "outputs": [
    {
     "name": "stdout",
     "output_type": "stream",
     "text": [
      "Found 1000 images belonging to 2 classes.\n",
      "test acc: 0.9369999921321869\n"
     ]
    }
   ],
   "source": [
    "test_generator = test_datagen.flow_from_directory(\n",
    "test_dir,\n",
    "target_size=(150, 150),\n",
    "batch_size=20,\n",
    "class_mode='binary')\n",
    "\n",
    "test_loss, test_acc = model.evaluate_generator(test_generator, steps=50)\n",
    "print('test acc:', test_acc)"
   ]
  }
 ],
 "metadata": {
  "accelerator": "GPU",
  "colab": {
   "collapsed_sections": [],
   "name": "CNN_3.ipynb",
   "provenance": [],
   "version": "0.3.2"
  },
  "kernelspec": {
   "display_name": "Python 3",
   "language": "python",
   "name": "python3"
  },
  "language_info": {
   "codemirror_mode": {
    "name": "ipython",
    "version": 3
   },
   "file_extension": ".py",
   "mimetype": "text/x-python",
   "name": "python",
   "nbconvert_exporter": "python",
   "pygments_lexer": "ipython3",
   "version": "3.7.0"
  }
 },
 "nbformat": 4,
 "nbformat_minor": 1
}
